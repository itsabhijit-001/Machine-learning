{
 "cells": [
  {
   "cell_type": "code",
   "execution_count": 27,
   "metadata": {},
   "outputs": [],
   "source": [
    "import pandas as pd\n",
    "import matplotlib.pyplot as plt\n",
    "import seaborn as sns\n",
    "from sklearn.model_selection import train_test_split\n",
    "import numpy as np\n",
    "import warnings\n",
    "from sklearn.preprocessing import MinMaxScaler,LabelEncoder\n",
    "warnings.filterwarnings('ignore')\n",
    "from sklearn.ensemble import RandomForestRegressor\n",
    "from sklearn.neighbors import KNeighborsRegressor\n",
    "from xgboost import XGBRegressor\n",
    "from sklearn.tree import DecisionTreeRegressor\n",
    "from sklearn.metrics import mean_squared_log_error\n",
    "from sklearn.metrics import mean_squared_error\n",
    "import keras\n",
    "from keras.models import Sequential\n",
    "from keras.activations import relu\n",
    "from keras.layers import Dense\n",
    "from keras.metrics import mean_squared_logarithmic_error\n",
    "from keras.callbacks import EarlyStopping,LearningRateScheduler"
   ]
  },
  {
   "cell_type": "code",
   "execution_count": 2,
   "metadata": {},
   "outputs": [
    {
     "data": {
      "text/html": [
       "<div>\n",
       "<style scoped>\n",
       "    .dataframe tbody tr th:only-of-type {\n",
       "        vertical-align: middle;\n",
       "    }\n",
       "\n",
       "    .dataframe tbody tr th {\n",
       "        vertical-align: top;\n",
       "    }\n",
       "\n",
       "    .dataframe thead th {\n",
       "        text-align: right;\n",
       "    }\n",
       "</style>\n",
       "<table border=\"1\" class=\"dataframe\">\n",
       "  <thead>\n",
       "    <tr style=\"text-align: right;\">\n",
       "      <th></th>\n",
       "      <th>Country</th>\n",
       "      <th>Year</th>\n",
       "      <th>Status</th>\n",
       "      <th>Life expectancy</th>\n",
       "      <th>Adult Mortality</th>\n",
       "      <th>infant deaths</th>\n",
       "      <th>Alcohol</th>\n",
       "      <th>percentage expenditure</th>\n",
       "      <th>Hepatitis B</th>\n",
       "      <th>Measles</th>\n",
       "      <th>...</th>\n",
       "      <th>Polio</th>\n",
       "      <th>Total expenditure</th>\n",
       "      <th>Diphtheria</th>\n",
       "      <th>HIV/AIDS</th>\n",
       "      <th>GDP</th>\n",
       "      <th>Population</th>\n",
       "      <th>thinness  1-19 years</th>\n",
       "      <th>thinness 5-9 years</th>\n",
       "      <th>Income composition of resources</th>\n",
       "      <th>Schooling</th>\n",
       "    </tr>\n",
       "  </thead>\n",
       "  <tbody>\n",
       "    <tr>\n",
       "      <th>0</th>\n",
       "      <td>Afghanistan</td>\n",
       "      <td>2015</td>\n",
       "      <td>Developing</td>\n",
       "      <td>65.0</td>\n",
       "      <td>263.0</td>\n",
       "      <td>62</td>\n",
       "      <td>0.01</td>\n",
       "      <td>71.279624</td>\n",
       "      <td>65.0</td>\n",
       "      <td>1154</td>\n",
       "      <td>...</td>\n",
       "      <td>6.0</td>\n",
       "      <td>8.16</td>\n",
       "      <td>65.0</td>\n",
       "      <td>0.1</td>\n",
       "      <td>584.259210</td>\n",
       "      <td>33736494.0</td>\n",
       "      <td>17.2</td>\n",
       "      <td>17.3</td>\n",
       "      <td>0.479</td>\n",
       "      <td>10.1</td>\n",
       "    </tr>\n",
       "    <tr>\n",
       "      <th>1</th>\n",
       "      <td>Afghanistan</td>\n",
       "      <td>2014</td>\n",
       "      <td>Developing</td>\n",
       "      <td>59.9</td>\n",
       "      <td>271.0</td>\n",
       "      <td>64</td>\n",
       "      <td>0.01</td>\n",
       "      <td>73.523582</td>\n",
       "      <td>62.0</td>\n",
       "      <td>492</td>\n",
       "      <td>...</td>\n",
       "      <td>58.0</td>\n",
       "      <td>8.18</td>\n",
       "      <td>62.0</td>\n",
       "      <td>0.1</td>\n",
       "      <td>612.696514</td>\n",
       "      <td>327582.0</td>\n",
       "      <td>17.5</td>\n",
       "      <td>17.5</td>\n",
       "      <td>0.476</td>\n",
       "      <td>10.0</td>\n",
       "    </tr>\n",
       "    <tr>\n",
       "      <th>2</th>\n",
       "      <td>Afghanistan</td>\n",
       "      <td>2013</td>\n",
       "      <td>Developing</td>\n",
       "      <td>59.9</td>\n",
       "      <td>268.0</td>\n",
       "      <td>66</td>\n",
       "      <td>0.01</td>\n",
       "      <td>73.219243</td>\n",
       "      <td>64.0</td>\n",
       "      <td>430</td>\n",
       "      <td>...</td>\n",
       "      <td>62.0</td>\n",
       "      <td>8.13</td>\n",
       "      <td>64.0</td>\n",
       "      <td>0.1</td>\n",
       "      <td>631.744976</td>\n",
       "      <td>31731688.0</td>\n",
       "      <td>17.7</td>\n",
       "      <td>17.7</td>\n",
       "      <td>0.470</td>\n",
       "      <td>9.9</td>\n",
       "    </tr>\n",
       "    <tr>\n",
       "      <th>3</th>\n",
       "      <td>Afghanistan</td>\n",
       "      <td>2012</td>\n",
       "      <td>Developing</td>\n",
       "      <td>59.5</td>\n",
       "      <td>272.0</td>\n",
       "      <td>69</td>\n",
       "      <td>0.01</td>\n",
       "      <td>78.184215</td>\n",
       "      <td>67.0</td>\n",
       "      <td>2787</td>\n",
       "      <td>...</td>\n",
       "      <td>67.0</td>\n",
       "      <td>8.52</td>\n",
       "      <td>67.0</td>\n",
       "      <td>0.1</td>\n",
       "      <td>669.959000</td>\n",
       "      <td>3696958.0</td>\n",
       "      <td>17.9</td>\n",
       "      <td>18.0</td>\n",
       "      <td>0.463</td>\n",
       "      <td>9.8</td>\n",
       "    </tr>\n",
       "    <tr>\n",
       "      <th>4</th>\n",
       "      <td>Afghanistan</td>\n",
       "      <td>2011</td>\n",
       "      <td>Developing</td>\n",
       "      <td>59.2</td>\n",
       "      <td>275.0</td>\n",
       "      <td>71</td>\n",
       "      <td>0.01</td>\n",
       "      <td>7.097109</td>\n",
       "      <td>68.0</td>\n",
       "      <td>3013</td>\n",
       "      <td>...</td>\n",
       "      <td>68.0</td>\n",
       "      <td>7.87</td>\n",
       "      <td>68.0</td>\n",
       "      <td>0.1</td>\n",
       "      <td>63.537231</td>\n",
       "      <td>2978599.0</td>\n",
       "      <td>18.2</td>\n",
       "      <td>18.2</td>\n",
       "      <td>0.454</td>\n",
       "      <td>9.5</td>\n",
       "    </tr>\n",
       "  </tbody>\n",
       "</table>\n",
       "<p>5 rows × 22 columns</p>\n",
       "</div>"
      ],
      "text/plain": [
       "       Country  Year      Status  Life expectancy   Adult Mortality  \\\n",
       "0  Afghanistan  2015  Developing              65.0            263.0   \n",
       "1  Afghanistan  2014  Developing              59.9            271.0   \n",
       "2  Afghanistan  2013  Developing              59.9            268.0   \n",
       "3  Afghanistan  2012  Developing              59.5            272.0   \n",
       "4  Afghanistan  2011  Developing              59.2            275.0   \n",
       "\n",
       "   infant deaths  Alcohol  percentage expenditure  Hepatitis B  Measles   ...  \\\n",
       "0             62     0.01               71.279624         65.0      1154  ...   \n",
       "1             64     0.01               73.523582         62.0       492  ...   \n",
       "2             66     0.01               73.219243         64.0       430  ...   \n",
       "3             69     0.01               78.184215         67.0      2787  ...   \n",
       "4             71     0.01                7.097109         68.0      3013  ...   \n",
       "\n",
       "   Polio  Total expenditure  Diphtheria    HIV/AIDS         GDP  Population  \\\n",
       "0    6.0               8.16         65.0        0.1  584.259210  33736494.0   \n",
       "1   58.0               8.18         62.0        0.1  612.696514    327582.0   \n",
       "2   62.0               8.13         64.0        0.1  631.744976  31731688.0   \n",
       "3   67.0               8.52         67.0        0.1  669.959000   3696958.0   \n",
       "4   68.0               7.87         68.0        0.1   63.537231   2978599.0   \n",
       "\n",
       "    thinness  1-19 years   thinness 5-9 years  \\\n",
       "0                   17.2                 17.3   \n",
       "1                   17.5                 17.5   \n",
       "2                   17.7                 17.7   \n",
       "3                   17.9                 18.0   \n",
       "4                   18.2                 18.2   \n",
       "\n",
       "   Income composition of resources  Schooling  \n",
       "0                            0.479       10.1  \n",
       "1                            0.476       10.0  \n",
       "2                            0.470        9.9  \n",
       "3                            0.463        9.8  \n",
       "4                            0.454        9.5  \n",
       "\n",
       "[5 rows x 22 columns]"
      ]
     },
     "execution_count": 2,
     "metadata": {},
     "output_type": "execute_result"
    }
   ],
   "source": [
    "data=pd.read_csv('Life Expectancy Data.csv')\n",
    "data.head()"
   ]
  },
  {
   "cell_type": "code",
   "execution_count": null,
   "metadata": {},
   "outputs": [],
   "source": []
  },
  {
   "cell_type": "code",
   "execution_count": 3,
   "metadata": {},
   "outputs": [
    {
     "name": "stdout",
     "output_type": "stream",
     "text": [
      "<class 'pandas.core.frame.DataFrame'>\n",
      "RangeIndex: 2938 entries, 0 to 2937\n",
      "Data columns (total 22 columns):\n",
      " #   Column                           Non-Null Count  Dtype  \n",
      "---  ------                           --------------  -----  \n",
      " 0   Country                          2938 non-null   object \n",
      " 1   Year                             2938 non-null   int64  \n",
      " 2   Status                           2938 non-null   object \n",
      " 3   Life expectancy                  2928 non-null   float64\n",
      " 4   Adult Mortality                  2928 non-null   float64\n",
      " 5   infant deaths                    2938 non-null   int64  \n",
      " 6   Alcohol                          2744 non-null   float64\n",
      " 7   percentage expenditure           2938 non-null   float64\n",
      " 8   Hepatitis B                      2385 non-null   float64\n",
      " 9   Measles                          2938 non-null   int64  \n",
      " 10   BMI                             2904 non-null   float64\n",
      " 11  under-five deaths                2938 non-null   int64  \n",
      " 12  Polio                            2919 non-null   float64\n",
      " 13  Total expenditure                2712 non-null   float64\n",
      " 14  Diphtheria                       2919 non-null   float64\n",
      " 15   HIV/AIDS                        2938 non-null   float64\n",
      " 16  GDP                              2490 non-null   float64\n",
      " 17  Population                       2286 non-null   float64\n",
      " 18   thinness  1-19 years            2904 non-null   float64\n",
      " 19   thinness 5-9 years              2904 non-null   float64\n",
      " 20  Income composition of resources  2771 non-null   float64\n",
      " 21  Schooling                        2775 non-null   float64\n",
      "dtypes: float64(16), int64(4), object(2)\n",
      "memory usage: 505.1+ KB\n"
     ]
    }
   ],
   "source": [
    "data.info()"
   ]
  },
  {
   "cell_type": "code",
   "execution_count": 4,
   "metadata": {},
   "outputs": [
    {
     "data": {
      "text/html": [
       "<div>\n",
       "<style scoped>\n",
       "    .dataframe tbody tr th:only-of-type {\n",
       "        vertical-align: middle;\n",
       "    }\n",
       "\n",
       "    .dataframe tbody tr th {\n",
       "        vertical-align: top;\n",
       "    }\n",
       "\n",
       "    .dataframe thead th {\n",
       "        text-align: right;\n",
       "    }\n",
       "</style>\n",
       "<table border=\"1\" class=\"dataframe\">\n",
       "  <thead>\n",
       "    <tr style=\"text-align: right;\">\n",
       "      <th></th>\n",
       "      <th>Year</th>\n",
       "      <th>Life expectancy</th>\n",
       "      <th>Adult Mortality</th>\n",
       "      <th>infant deaths</th>\n",
       "      <th>Alcohol</th>\n",
       "      <th>percentage expenditure</th>\n",
       "      <th>Hepatitis B</th>\n",
       "      <th>Measles</th>\n",
       "      <th>BMI</th>\n",
       "      <th>under-five deaths</th>\n",
       "      <th>Polio</th>\n",
       "      <th>Total expenditure</th>\n",
       "      <th>Diphtheria</th>\n",
       "      <th>HIV/AIDS</th>\n",
       "      <th>GDP</th>\n",
       "      <th>Population</th>\n",
       "      <th>thinness  1-19 years</th>\n",
       "      <th>thinness 5-9 years</th>\n",
       "      <th>Income composition of resources</th>\n",
       "      <th>Schooling</th>\n",
       "    </tr>\n",
       "  </thead>\n",
       "  <tbody>\n",
       "    <tr>\n",
       "      <th>count</th>\n",
       "      <td>2938.000000</td>\n",
       "      <td>2928.000000</td>\n",
       "      <td>2928.000000</td>\n",
       "      <td>2938.000000</td>\n",
       "      <td>2744.000000</td>\n",
       "      <td>2938.000000</td>\n",
       "      <td>2385.000000</td>\n",
       "      <td>2938.000000</td>\n",
       "      <td>2904.000000</td>\n",
       "      <td>2938.000000</td>\n",
       "      <td>2919.000000</td>\n",
       "      <td>2712.00000</td>\n",
       "      <td>2919.000000</td>\n",
       "      <td>2938.000000</td>\n",
       "      <td>2490.000000</td>\n",
       "      <td>2.286000e+03</td>\n",
       "      <td>2904.000000</td>\n",
       "      <td>2904.000000</td>\n",
       "      <td>2771.000000</td>\n",
       "      <td>2775.000000</td>\n",
       "    </tr>\n",
       "    <tr>\n",
       "      <th>mean</th>\n",
       "      <td>2007.518720</td>\n",
       "      <td>69.224932</td>\n",
       "      <td>164.796448</td>\n",
       "      <td>30.303948</td>\n",
       "      <td>4.602861</td>\n",
       "      <td>738.251295</td>\n",
       "      <td>80.940461</td>\n",
       "      <td>2419.592240</td>\n",
       "      <td>38.321247</td>\n",
       "      <td>42.035739</td>\n",
       "      <td>82.550188</td>\n",
       "      <td>5.93819</td>\n",
       "      <td>82.324084</td>\n",
       "      <td>1.742103</td>\n",
       "      <td>7483.158469</td>\n",
       "      <td>1.275338e+07</td>\n",
       "      <td>4.839704</td>\n",
       "      <td>4.870317</td>\n",
       "      <td>0.627551</td>\n",
       "      <td>11.992793</td>\n",
       "    </tr>\n",
       "    <tr>\n",
       "      <th>std</th>\n",
       "      <td>4.613841</td>\n",
       "      <td>9.523867</td>\n",
       "      <td>124.292079</td>\n",
       "      <td>117.926501</td>\n",
       "      <td>4.052413</td>\n",
       "      <td>1987.914858</td>\n",
       "      <td>25.070016</td>\n",
       "      <td>11467.272489</td>\n",
       "      <td>20.044034</td>\n",
       "      <td>160.445548</td>\n",
       "      <td>23.428046</td>\n",
       "      <td>2.49832</td>\n",
       "      <td>23.716912</td>\n",
       "      <td>5.077785</td>\n",
       "      <td>14270.169342</td>\n",
       "      <td>6.101210e+07</td>\n",
       "      <td>4.420195</td>\n",
       "      <td>4.508882</td>\n",
       "      <td>0.210904</td>\n",
       "      <td>3.358920</td>\n",
       "    </tr>\n",
       "    <tr>\n",
       "      <th>min</th>\n",
       "      <td>2000.000000</td>\n",
       "      <td>36.300000</td>\n",
       "      <td>1.000000</td>\n",
       "      <td>0.000000</td>\n",
       "      <td>0.010000</td>\n",
       "      <td>0.000000</td>\n",
       "      <td>1.000000</td>\n",
       "      <td>0.000000</td>\n",
       "      <td>1.000000</td>\n",
       "      <td>0.000000</td>\n",
       "      <td>3.000000</td>\n",
       "      <td>0.37000</td>\n",
       "      <td>2.000000</td>\n",
       "      <td>0.100000</td>\n",
       "      <td>1.681350</td>\n",
       "      <td>3.400000e+01</td>\n",
       "      <td>0.100000</td>\n",
       "      <td>0.100000</td>\n",
       "      <td>0.000000</td>\n",
       "      <td>0.000000</td>\n",
       "    </tr>\n",
       "    <tr>\n",
       "      <th>25%</th>\n",
       "      <td>2004.000000</td>\n",
       "      <td>63.100000</td>\n",
       "      <td>74.000000</td>\n",
       "      <td>0.000000</td>\n",
       "      <td>0.877500</td>\n",
       "      <td>4.685343</td>\n",
       "      <td>77.000000</td>\n",
       "      <td>0.000000</td>\n",
       "      <td>19.300000</td>\n",
       "      <td>0.000000</td>\n",
       "      <td>78.000000</td>\n",
       "      <td>4.26000</td>\n",
       "      <td>78.000000</td>\n",
       "      <td>0.100000</td>\n",
       "      <td>463.935626</td>\n",
       "      <td>1.957932e+05</td>\n",
       "      <td>1.600000</td>\n",
       "      <td>1.500000</td>\n",
       "      <td>0.493000</td>\n",
       "      <td>10.100000</td>\n",
       "    </tr>\n",
       "    <tr>\n",
       "      <th>50%</th>\n",
       "      <td>2008.000000</td>\n",
       "      <td>72.100000</td>\n",
       "      <td>144.000000</td>\n",
       "      <td>3.000000</td>\n",
       "      <td>3.755000</td>\n",
       "      <td>64.912906</td>\n",
       "      <td>92.000000</td>\n",
       "      <td>17.000000</td>\n",
       "      <td>43.500000</td>\n",
       "      <td>4.000000</td>\n",
       "      <td>93.000000</td>\n",
       "      <td>5.75500</td>\n",
       "      <td>93.000000</td>\n",
       "      <td>0.100000</td>\n",
       "      <td>1766.947595</td>\n",
       "      <td>1.386542e+06</td>\n",
       "      <td>3.300000</td>\n",
       "      <td>3.300000</td>\n",
       "      <td>0.677000</td>\n",
       "      <td>12.300000</td>\n",
       "    </tr>\n",
       "    <tr>\n",
       "      <th>75%</th>\n",
       "      <td>2012.000000</td>\n",
       "      <td>75.700000</td>\n",
       "      <td>228.000000</td>\n",
       "      <td>22.000000</td>\n",
       "      <td>7.702500</td>\n",
       "      <td>441.534144</td>\n",
       "      <td>97.000000</td>\n",
       "      <td>360.250000</td>\n",
       "      <td>56.200000</td>\n",
       "      <td>28.000000</td>\n",
       "      <td>97.000000</td>\n",
       "      <td>7.49250</td>\n",
       "      <td>97.000000</td>\n",
       "      <td>0.800000</td>\n",
       "      <td>5910.806335</td>\n",
       "      <td>7.420359e+06</td>\n",
       "      <td>7.200000</td>\n",
       "      <td>7.200000</td>\n",
       "      <td>0.779000</td>\n",
       "      <td>14.300000</td>\n",
       "    </tr>\n",
       "    <tr>\n",
       "      <th>max</th>\n",
       "      <td>2015.000000</td>\n",
       "      <td>89.000000</td>\n",
       "      <td>723.000000</td>\n",
       "      <td>1800.000000</td>\n",
       "      <td>17.870000</td>\n",
       "      <td>19479.911610</td>\n",
       "      <td>99.000000</td>\n",
       "      <td>212183.000000</td>\n",
       "      <td>87.300000</td>\n",
       "      <td>2500.000000</td>\n",
       "      <td>99.000000</td>\n",
       "      <td>17.60000</td>\n",
       "      <td>99.000000</td>\n",
       "      <td>50.600000</td>\n",
       "      <td>119172.741800</td>\n",
       "      <td>1.293859e+09</td>\n",
       "      <td>27.700000</td>\n",
       "      <td>28.600000</td>\n",
       "      <td>0.948000</td>\n",
       "      <td>20.700000</td>\n",
       "    </tr>\n",
       "  </tbody>\n",
       "</table>\n",
       "</div>"
      ],
      "text/plain": [
       "              Year  Life expectancy   Adult Mortality  infant deaths  \\\n",
       "count  2938.000000       2928.000000      2928.000000    2938.000000   \n",
       "mean   2007.518720         69.224932       164.796448      30.303948   \n",
       "std       4.613841          9.523867       124.292079     117.926501   \n",
       "min    2000.000000         36.300000         1.000000       0.000000   \n",
       "25%    2004.000000         63.100000        74.000000       0.000000   \n",
       "50%    2008.000000         72.100000       144.000000       3.000000   \n",
       "75%    2012.000000         75.700000       228.000000      22.000000   \n",
       "max    2015.000000         89.000000       723.000000    1800.000000   \n",
       "\n",
       "           Alcohol  percentage expenditure  Hepatitis B       Measles   \\\n",
       "count  2744.000000             2938.000000  2385.000000    2938.000000   \n",
       "mean      4.602861              738.251295    80.940461    2419.592240   \n",
       "std       4.052413             1987.914858    25.070016   11467.272489   \n",
       "min       0.010000                0.000000     1.000000       0.000000   \n",
       "25%       0.877500                4.685343    77.000000       0.000000   \n",
       "50%       3.755000               64.912906    92.000000      17.000000   \n",
       "75%       7.702500              441.534144    97.000000     360.250000   \n",
       "max      17.870000            19479.911610    99.000000  212183.000000   \n",
       "\n",
       "              BMI   under-five deaths         Polio  Total expenditure  \\\n",
       "count  2904.000000         2938.000000  2919.000000         2712.00000   \n",
       "mean     38.321247           42.035739    82.550188            5.93819   \n",
       "std      20.044034          160.445548    23.428046            2.49832   \n",
       "min       1.000000            0.000000     3.000000            0.37000   \n",
       "25%      19.300000            0.000000    78.000000            4.26000   \n",
       "50%      43.500000            4.000000    93.000000            5.75500   \n",
       "75%      56.200000           28.000000    97.000000            7.49250   \n",
       "max      87.300000         2500.000000    99.000000           17.60000   \n",
       "\n",
       "       Diphtheria      HIV/AIDS            GDP    Population  \\\n",
       "count  2919.000000  2938.000000    2490.000000  2.286000e+03   \n",
       "mean     82.324084     1.742103    7483.158469  1.275338e+07   \n",
       "std      23.716912     5.077785   14270.169342  6.101210e+07   \n",
       "min       2.000000     0.100000       1.681350  3.400000e+01   \n",
       "25%      78.000000     0.100000     463.935626  1.957932e+05   \n",
       "50%      93.000000     0.100000    1766.947595  1.386542e+06   \n",
       "75%      97.000000     0.800000    5910.806335  7.420359e+06   \n",
       "max      99.000000    50.600000  119172.741800  1.293859e+09   \n",
       "\n",
       "        thinness  1-19 years   thinness 5-9 years  \\\n",
       "count            2904.000000          2904.000000   \n",
       "mean                4.839704             4.870317   \n",
       "std                 4.420195             4.508882   \n",
       "min                 0.100000             0.100000   \n",
       "25%                 1.600000             1.500000   \n",
       "50%                 3.300000             3.300000   \n",
       "75%                 7.200000             7.200000   \n",
       "max                27.700000            28.600000   \n",
       "\n",
       "       Income composition of resources    Schooling  \n",
       "count                      2771.000000  2775.000000  \n",
       "mean                          0.627551    11.992793  \n",
       "std                           0.210904     3.358920  \n",
       "min                           0.000000     0.000000  \n",
       "25%                           0.493000    10.100000  \n",
       "50%                           0.677000    12.300000  \n",
       "75%                           0.779000    14.300000  \n",
       "max                           0.948000    20.700000  "
      ]
     },
     "execution_count": 4,
     "metadata": {},
     "output_type": "execute_result"
    }
   ],
   "source": [
    "data.describe()"
   ]
  },
  {
   "cell_type": "code",
   "execution_count": 5,
   "metadata": {},
   "outputs": [],
   "source": [
    "data.drop(['Country'],inplace=True,axis=1)"
   ]
  },
  {
   "cell_type": "code",
   "execution_count": 6,
   "metadata": {},
   "outputs": [],
   "source": [
    "GDP=data.GDP\n",
    "data.drop(['GDP'],inplace=True,axis=1)\n",
    "# data.fillna()"
   ]
  },
  {
   "cell_type": "code",
   "execution_count": 7,
   "metadata": {},
   "outputs": [],
   "source": [
    "train_x,test_x,train_gdp,test_gdp=train_test_split(data,GDP,test_size=0.2,random_state=42)"
   ]
  },
  {
   "cell_type": "code",
   "execution_count": 8,
   "metadata": {},
   "outputs": [],
   "source": [
    "missing_numeric_value_cols=[col for col in train_x.columns if data[col].dtype!='O' and data[col].isnull().sum()>0]"
   ]
  },
  {
   "cell_type": "code",
   "execution_count": 9,
   "metadata": {},
   "outputs": [],
   "source": [
    "def fill_missing_values(dataset,columns):\n",
    "    for col in columns:\n",
    "        mean_value_col=np.mean(dataset[col])\n",
    "#         print(mean_value_col)\n",
    "        dataset[col].fillna(mean_value_col,inplace=True)\n",
    "    return dataset"
   ]
  },
  {
   "cell_type": "code",
   "execution_count": 10,
   "metadata": {},
   "outputs": [],
   "source": [
    "train_x=fill_missing_values(train_x,missing_numeric_value_cols)"
   ]
  },
  {
   "cell_type": "code",
   "execution_count": 11,
   "metadata": {},
   "outputs": [
    {
     "name": "stdout",
     "output_type": "stream",
     "text": [
      "<class 'pandas.core.frame.DataFrame'>\n",
      "Int64Index: 2350 entries, 456 to 860\n",
      "Data columns (total 20 columns):\n",
      " #   Column                           Non-Null Count  Dtype  \n",
      "---  ------                           --------------  -----  \n",
      " 0   Year                             2350 non-null   int64  \n",
      " 1   Status                           2350 non-null   object \n",
      " 2   Life expectancy                  2350 non-null   float64\n",
      " 3   Adult Mortality                  2350 non-null   float64\n",
      " 4   infant deaths                    2350 non-null   int64  \n",
      " 5   Alcohol                          2350 non-null   float64\n",
      " 6   percentage expenditure           2350 non-null   float64\n",
      " 7   Hepatitis B                      2350 non-null   float64\n",
      " 8   Measles                          2350 non-null   int64  \n",
      " 9    BMI                             2350 non-null   float64\n",
      " 10  under-five deaths                2350 non-null   int64  \n",
      " 11  Polio                            2350 non-null   float64\n",
      " 12  Total expenditure                2350 non-null   float64\n",
      " 13  Diphtheria                       2350 non-null   float64\n",
      " 14   HIV/AIDS                        2350 non-null   float64\n",
      " 15  Population                       2350 non-null   float64\n",
      " 16   thinness  1-19 years            2350 non-null   float64\n",
      " 17   thinness 5-9 years              2350 non-null   float64\n",
      " 18  Income composition of resources  2350 non-null   float64\n",
      " 19  Schooling                        2350 non-null   float64\n",
      "dtypes: float64(15), int64(4), object(1)\n",
      "memory usage: 385.5+ KB\n"
     ]
    }
   ],
   "source": [
    "train_x.info()"
   ]
  },
  {
   "cell_type": "code",
   "execution_count": 12,
   "metadata": {},
   "outputs": [],
   "source": [
    "def fill_GDP(dataset):\n",
    "    mean_gdp=np.mean(dataset)\n",
    "    dataset.fillna(mean_gdp,inplace=True)\n",
    "    return dataset\n",
    "train_gdp=fill_GDP(train_gdp)"
   ]
  },
  {
   "cell_type": "code",
   "execution_count": 13,
   "metadata": {},
   "outputs": [],
   "source": [
    "lbl_developement_status=LabelEncoder()\n",
    "train_x.Status=lbl_developement_status.fit_transform(train_x.Status)"
   ]
  },
  {
   "cell_type": "code",
   "execution_count": 14,
   "metadata": {},
   "outputs": [],
   "source": [
    "scaler=MinMaxScaler()\n",
    "train_x=scaler.fit_transform(train_x)"
   ]
  },
  {
   "cell_type": "markdown",
   "metadata": {},
   "source": [
    "# Feature Engineering on Test Data"
   ]
  },
  {
   "cell_type": "code",
   "execution_count": 15,
   "metadata": {},
   "outputs": [],
   "source": [
    "test_x=fill_missing_values(test_x,missing_numeric_value_cols)\n",
    "test_gdp=fill_GDP(test_gdp)\n",
    "test_x.Status=lbl_developement_status.transform(test_x.Status)\n",
    "test_x=scaler.transform(test_x)"
   ]
  },
  {
   "cell_type": "markdown",
   "metadata": {},
   "source": [
    "# ANN"
   ]
  },
  {
   "cell_type": "code",
   "execution_count": 17,
   "metadata": {},
   "outputs": [],
   "source": [
    "model=Sequential()\n",
    "model.add(Dense(16,input_dim=20))\n",
    "# model.add(Dense(2,activation=relu))\n",
    "model.add(Dense(1))"
   ]
  },
  {
   "cell_type": "code",
   "execution_count": 18,
   "metadata": {},
   "outputs": [],
   "source": [
    "def schedule(epoch,lr):\n",
    "    if epoch>50:\n",
    "        return 0.0001\n",
    "    return 0.001\n",
    "scheduler=LearningRateScheduler(schedule)\n",
    "early_stop=EarlyStopping(patience=3,monitor='val_mean_squared_logarithmic_error')"
   ]
  },
  {
   "cell_type": "code",
   "execution_count": 19,
   "metadata": {},
   "outputs": [],
   "source": [
    "model.compile(optimizer=keras.optimizers.RMSprop(.001),loss='mse',metrics=[mean_squared_logarithmic_error])"
   ]
  },
  {
   "cell_type": "code",
   "execution_count": 20,
   "metadata": {},
   "outputs": [
    {
     "name": "stdout",
     "output_type": "stream",
     "text": [
      "WARNING:tensorflow:From C:\\Users\\abhij\\anaconda3\\lib\\site-packages\\keras\\backend\\tensorflow_backend.py:422: The name tf.global_variables is deprecated. Please use tf.compat.v1.global_variables instead.\n",
      "\n",
      "Train on 2350 samples, validate on 588 samples\n",
      "Epoch 1/200\n",
      "2350/2350 [==============================] - 1s 232us/step - loss: 226201066.0494 - mean_squared_logarithmic_error: 44.9141 - val_loss: 237760881.0340 - val_mean_squared_logarithmic_error: 39.4696\n",
      "Epoch 2/200\n",
      "2350/2350 [==============================] - 0s 95us/step - loss: 226133075.0230 - mean_squared_logarithmic_error: 34.7493 - val_loss: 237679467.5374 - val_mean_squared_logarithmic_error: 32.3376\n",
      "Epoch 3/200\n",
      "2350/2350 [==============================] - 0s 98us/step - loss: 226043940.6570 - mean_squared_logarithmic_error: 28.8911 - val_loss: 237571073.0884 - val_mean_squared_logarithmic_error: 27.3847\n",
      "Epoch 4/200\n",
      "2350/2350 [==============================] - 0s 100us/step - loss: 225934049.2800 - mean_squared_logarithmic_error: 24.7869 - val_loss: 237443556.7347 - val_mean_squared_logarithmic_error: 23.8743\n",
      "Epoch 5/200\n",
      "2350/2350 [==============================] - 0s 94us/step - loss: 225804076.6366 - mean_squared_logarithmic_error: 21.7236 - val_loss: 237294513.8503 - val_mean_squared_logarithmic_error: 21.1578\n",
      "Epoch 6/200\n",
      "2350/2350 [==============================] - 0s 91us/step - loss: 225654806.8766 - mean_squared_logarithmic_error: 19.3114 - val_loss: 237121651.3197 - val_mean_squared_logarithmic_error: 18.9506\n",
      "Epoch 7/200\n",
      "2350/2350 [==============================] - 0s 92us/step - loss: 225478930.8732 - mean_squared_logarithmic_error: 17.3353 - val_loss: 236924034.4490 - val_mean_squared_logarithmic_error: 17.1124\n",
      "Epoch 8/200\n",
      "2350/2350 [==============================] - 0s 91us/step - loss: 225283495.4757 - mean_squared_logarithmic_error: 15.6935 - val_loss: 236706732.0272 - val_mean_squared_logarithmic_error: 15.5890\n",
      "Epoch 9/200\n",
      "2350/2350 [==============================] - 0s 88us/step - loss: 225073394.0426 - mean_squared_logarithmic_error: 14.3134 - val_loss: 236466983.0204 - val_mean_squared_logarithmic_error: 14.2863\n",
      "Epoch 10/200\n",
      "2350/2350 [==============================] - 0s 90us/step - loss: 224837492.0783 - mean_squared_logarithmic_error: 13.1306 - val_loss: 236207460.7347 - val_mean_squared_logarithmic_error: 13.1705\n",
      "Epoch 11/200\n",
      "2350/2350 [==============================] - 0s 92us/step - loss: 224587396.3379 - mean_squared_logarithmic_error: 12.1043 - val_loss: 235929669.8776 - val_mean_squared_logarithmic_error: 12.2073\n",
      "Epoch 12/200\n",
      "2350/2350 [==============================] - 0s 91us/step - loss: 224318828.8477 - mean_squared_logarithmic_error: 11.2123 - val_loss: 235629746.5578 - val_mean_squared_logarithmic_error: 11.3542\n",
      "Epoch 13/200\n",
      "2350/2350 [==============================] - 0s 91us/step - loss: 224024720.1634 - mean_squared_logarithmic_error: 10.4179 - val_loss: 235308132.8980 - val_mean_squared_logarithmic_error: 10.5978\n",
      "Epoch 14/200\n",
      "2350/2350 [==============================] - 0s 90us/step - loss: 223714677.5149 - mean_squared_logarithmic_error: 9.7250 - val_loss: 234961470.0408 - val_mean_squared_logarithmic_error: 9.9160\n",
      "Epoch 15/200\n",
      "2350/2350 [==============================] - 0s 91us/step - loss: 223386115.7583 - mean_squared_logarithmic_error: 9.0994 - val_loss: 234603810.5578 - val_mean_squared_logarithmic_error: 9.3211\n",
      "Epoch 16/200\n",
      "2350/2350 [==============================] - 0s 93us/step - loss: 223037494.9583 - mean_squared_logarithmic_error: 8.5417 - val_loss: 234217860.0272 - val_mean_squared_logarithmic_error: 8.7743\n",
      "Epoch 17/200\n",
      "2350/2350 [==============================] - 0s 94us/step - loss: 222662545.6443 - mean_squared_logarithmic_error: 8.0336 - val_loss: 233805563.2109 - val_mean_squared_logarithmic_error: 8.2742\n",
      "Epoch 18/200\n",
      "2350/2350 [==============================] - 0s 101us/step - loss: 222272520.5481 - mean_squared_logarithmic_error: 7.5806 - val_loss: 233383979.8095 - val_mean_squared_logarithmic_error: 7.8334\n",
      "Epoch 19/200\n",
      "2350/2350 [==============================] - 0s 96us/step - loss: 221872585.5047 - mean_squared_logarithmic_error: 7.1714 - val_loss: 232947764.1361 - val_mean_squared_logarithmic_error: 7.4367\n",
      "Epoch 20/200\n",
      "2350/2350 [==============================] - 0s 96us/step - loss: 221457697.7362 - mean_squared_logarithmic_error: 6.8003 - val_loss: 232487025.5782 - val_mean_squared_logarithmic_error: 7.0705\n",
      "Epoch 21/200\n",
      "2350/2350 [==============================] - 0s 96us/step - loss: 221025006.4221 - mean_squared_logarithmic_error: 6.4630 - val_loss: 232011403.4830 - val_mean_squared_logarithmic_error: 6.7390\n",
      "Epoch 22/200\n",
      "2350/2350 [==============================] - 0s 97us/step - loss: 220542944.3677 - mean_squared_logarithmic_error: 6.1489 - val_loss: 231494408.4354 - val_mean_squared_logarithmic_error: 6.4227\n",
      "Epoch 23/200\n",
      "2350/2350 [==============================] - 0s 93us/step - loss: 220077895.8536 - mean_squared_logarithmic_error: 5.8661 - val_loss: 230985753.8503 - val_mean_squared_logarithmic_error: 6.1477\n",
      "Epoch 24/200\n",
      "2350/2350 [==============================] - 0s 93us/step - loss: 219581455.2374 - mean_squared_logarithmic_error: 5.6067 - val_loss: 230442346.4490 - val_mean_squared_logarithmic_error: 5.8875\n",
      "Epoch 25/200\n",
      "2350/2350 [==============================] - 0s 96us/step - loss: 219079742.0936 - mean_squared_logarithmic_error: 5.3675 - val_loss: 229887411.8639 - val_mean_squared_logarithmic_error: 5.6514\n",
      "Epoch 26/200\n",
      "2350/2350 [==============================] - 0s 92us/step - loss: 218543121.3753 - mean_squared_logarithmic_error: 5.1499 - val_loss: 229305247.9456 - val_mean_squared_logarithmic_error: 5.4311\n",
      "Epoch 27/200\n",
      "2350/2350 [==============================] - 0s 94us/step - loss: 217995452.9906 - mean_squared_logarithmic_error: 4.9493 - val_loss: 228713494.4762 - val_mean_squared_logarithmic_error: 5.2313\n",
      "Epoch 28/200\n",
      "2350/2350 [==============================] - 0s 89us/step - loss: 217443110.3217 - mean_squared_logarithmic_error: 4.7647 - val_loss: 228111981.2789 - val_mean_squared_logarithmic_error: 5.0494\n",
      "Epoch 29/200\n",
      "2350/2350 [==============================] - 0s 91us/step - loss: 216877406.4306 - mean_squared_logarithmic_error: 4.5990 - val_loss: 227500648.9796 - val_mean_squared_logarithmic_error: 4.8835\n",
      "Epoch 30/200\n",
      "2350/2350 [==============================] - 0s 90us/step - loss: 216290475.5949 - mean_squared_logarithmic_error: 4.4431 - val_loss: 226855074.6667 - val_mean_squared_logarithmic_error: 4.7262\n",
      "Epoch 31/200\n",
      "2350/2350 [==============================] - 0s 100us/step - loss: 215690155.5472 - mean_squared_logarithmic_error: 4.3030 - val_loss: 226200579.5374 - val_mean_squared_logarithmic_error: 4.5829\n",
      "Epoch 32/200\n",
      "2350/2350 [==============================] - 0s 101us/step - loss: 215077721.3277 - mean_squared_logarithmic_error: 4.1726 - val_loss: 225532624.9796 - val_mean_squared_logarithmic_error: 4.4513\n",
      "Epoch 33/200\n",
      "2350/2350 [==============================] - 0s 101us/step - loss: 214455162.3285 - mean_squared_logarithmic_error: 4.0565 - val_loss: 224857859.9728 - val_mean_squared_logarithmic_error: 4.3314\n",
      "Epoch 34/200\n",
      "2350/2350 [==============================] - 0s 101us/step - loss: 213815049.1506 - mean_squared_logarithmic_error: 3.9464 - val_loss: 224153212.2993 - val_mean_squared_logarithmic_error: 4.2185\n",
      "Epoch 35/200\n",
      "2350/2350 [==============================] - 0s 92us/step - loss: 213175922.6043 - mean_squared_logarithmic_error: 3.8474 - val_loss: 223465728.4898 - val_mean_squared_logarithmic_error: 4.1190\n",
      "Epoch 36/200\n",
      "2350/2350 [==============================] - 0s 91us/step - loss: 212510517.0383 - mean_squared_logarithmic_error: 3.7528 - val_loss: 222734585.3061 - val_mean_squared_logarithmic_error: 4.0235\n",
      "Epoch 37/200\n",
      "2350/2350 [==============================] - 0s 94us/step - loss: 211839838.6179 - mean_squared_logarithmic_error: 3.6692 - val_loss: 222015498.2313 - val_mean_squared_logarithmic_error: 3.9387\n",
      "Epoch 38/200\n",
      "2350/2350 [==============================] - 0s 97us/step - loss: 211153759.4009 - mean_squared_logarithmic_error: 3.5944 - val_loss: 221269030.3129 - val_mean_squared_logarithmic_error: 3.8593\n",
      "Epoch 39/200\n"
     ]
    },
    {
     "name": "stdout",
     "output_type": "stream",
     "text": [
      "2350/2350 [==============================] - 0s 99us/step - loss: 210474831.3157 - mean_squared_logarithmic_error: 3.5236 - val_loss: 220528518.3129 - val_mean_squared_logarithmic_error: 3.7881\n",
      "Epoch 40/200\n",
      "2350/2350 [==============================] - 0s 94us/step - loss: 209771504.5855 - mean_squared_logarithmic_error: 3.4613 - val_loss: 219761393.1429 - val_mean_squared_logarithmic_error: 3.7217\n",
      "Epoch 41/200\n",
      "2350/2350 [==============================] - 0s 94us/step - loss: 209040663.8434 - mean_squared_logarithmic_error: 3.4029 - val_loss: 218963744.8707 - val_mean_squared_logarithmic_error: 3.6596\n",
      "Epoch 42/200\n",
      "2350/2350 [==============================] - 0s 94us/step - loss: 208310517.5421 - mean_squared_logarithmic_error: 3.3481 - val_loss: 218162167.8912 - val_mean_squared_logarithmic_error: 3.6037\n",
      "Epoch 43/200\n",
      "2350/2350 [==============================] - 0s 93us/step - loss: 207568481.5319 - mean_squared_logarithmic_error: 3.3007 - val_loss: 217360001.5782 - val_mean_squared_logarithmic_error: 3.5536\n",
      "Epoch 44/200\n",
      "2350/2350 [==============================] - 0s 91us/step - loss: 206822126.4204 - mean_squared_logarithmic_error: 3.2593 - val_loss: 216547581.6599 - val_mean_squared_logarithmic_error: 3.5082\n",
      "Epoch 45/200\n",
      "2350/2350 [==============================] - 0s 148us/step - loss: 206069601.1881 - mean_squared_logarithmic_error: 3.2214 - val_loss: 215741211.8639 - val_mean_squared_logarithmic_error: 3.4680\n",
      "Epoch 46/200\n",
      "2350/2350 [==============================] - 0s 91us/step - loss: 205323901.7889 - mean_squared_logarithmic_error: 3.1887 - val_loss: 214919809.2517 - val_mean_squared_logarithmic_error: 3.4318\n",
      "Epoch 47/200\n",
      "2350/2350 [==============================] - 0s 95us/step - loss: 204563886.9226 - mean_squared_logarithmic_error: 3.1578 - val_loss: 214089851.7551 - val_mean_squared_logarithmic_error: 3.3994\n",
      "Epoch 48/200\n",
      "2350/2350 [==============================] - 0s 94us/step - loss: 203773189.3004 - mean_squared_logarithmic_error: 3.1333 - val_loss: 213220088.5442 - val_mean_squared_logarithmic_error: 3.3696\n",
      "Epoch 49/200\n",
      "2350/2350 [==============================] - 0s 111us/step - loss: 202990916.5889 - mean_squared_logarithmic_error: 3.1103 - val_loss: 212358184.4898 - val_mean_squared_logarithmic_error: 3.3439\n",
      "Epoch 50/200\n",
      "2350/2350 [==============================] - 0s 102us/step - loss: 202215553.1413 - mean_squared_logarithmic_error: 3.0918 - val_loss: 211520832.5442 - val_mean_squared_logarithmic_error: 3.3226\n",
      "Epoch 51/200\n",
      "2350/2350 [==============================] - 0s 94us/step - loss: 201408104.5515 - mean_squared_logarithmic_error: 3.0752 - val_loss: 210616040.4354 - val_mean_squared_logarithmic_error: 3.3028\n",
      "Epoch 52/200\n",
      "2350/2350 [==============================] - 0s 96us/step - loss: 200948803.2953 - mean_squared_logarithmic_error: 3.0672 - val_loss: 210531915.7007 - val_mean_squared_logarithmic_error: 3.3011\n",
      "Epoch 53/200\n",
      "2350/2350 [==============================] - 0s 94us/step - loss: 200871115.6970 - mean_squared_logarithmic_error: 3.0660 - val_loss: 210442810.6122 - val_mean_squared_logarithmic_error: 3.2994\n",
      "Epoch 54/200\n",
      "2350/2350 [==============================] - 0s 95us/step - loss: 200789444.0034 - mean_squared_logarithmic_error: 3.0648 - val_loss: 210356978.6667 - val_mean_squared_logarithmic_error: 3.2977\n",
      "Epoch 55/200\n",
      "2350/2350 [==============================] - 0s 91us/step - loss: 200708249.0826 - mean_squared_logarithmic_error: 3.0635 - val_loss: 210265998.8027 - val_mean_squared_logarithmic_error: 3.2960\n",
      "Epoch 56/200\n",
      "2350/2350 [==============================] - 0s 90us/step - loss: 200629989.9643 - mean_squared_logarithmic_error: 3.0625 - val_loss: 210184307.2653 - val_mean_squared_logarithmic_error: 3.2945\n",
      "Epoch 57/200\n",
      "2350/2350 [==============================] - 0s 90us/step - loss: 200551948.9566 - mean_squared_logarithmic_error: 3.0613 - val_loss: 210096078.1497 - val_mean_squared_logarithmic_error: 3.2929\n",
      "Epoch 58/200\n",
      "2350/2350 [==============================] - 0s 92us/step - loss: 200472524.9791 - mean_squared_logarithmic_error: 3.0602 - val_loss: 210010826.5578 - val_mean_squared_logarithmic_error: 3.2914\n",
      "Epoch 59/200\n",
      "2350/2350 [==============================] - 0s 95us/step - loss: 200392872.0238 - mean_squared_logarithmic_error: 3.0591 - val_loss: 209923297.1973 - val_mean_squared_logarithmic_error: 3.2899\n",
      "Epoch 60/200\n",
      "2350/2350 [==============================] - 0s 101us/step - loss: 200312389.3106 - mean_squared_logarithmic_error: 3.0581 - val_loss: 209835260.6803 - val_mean_squared_logarithmic_error: 3.2884\n",
      "Epoch 61/200\n",
      "2350/2350 [==============================] - 0s 93us/step - loss: 200234768.7489 - mean_squared_logarithmic_error: 3.0571 - val_loss: 209751321.1429 - val_mean_squared_logarithmic_error: 3.2870\n",
      "Epoch 62/200\n",
      "2350/2350 [==============================] - 0s 93us/step - loss: 200158745.2732 - mean_squared_logarithmic_error: 3.0562 - val_loss: 209666456.3810 - val_mean_squared_logarithmic_error: 3.2856\n",
      "Epoch 63/200\n",
      "2350/2350 [==============================] - 0s 94us/step - loss: 200075173.5421 - mean_squared_logarithmic_error: 3.0550 - val_loss: 209575285.1156 - val_mean_squared_logarithmic_error: 3.2841\n",
      "Epoch 64/200\n",
      "2350/2350 [==============================] - 0s 95us/step - loss: 199995289.1166 - mean_squared_logarithmic_error: 3.0542 - val_loss: 209487894.8027 - val_mean_squared_logarithmic_error: 3.2828\n",
      "Epoch 65/200\n",
      "2350/2350 [==============================] - 0s 97us/step - loss: 199912930.7098 - mean_squared_logarithmic_error: 3.0533 - val_loss: 209399363.1020 - val_mean_squared_logarithmic_error: 3.2814\n",
      "Epoch 66/200\n",
      "2350/2350 [==============================] - 0s 98us/step - loss: 199835274.5532 - mean_squared_logarithmic_error: 3.0523 - val_loss: 209313964.4082 - val_mean_squared_logarithmic_error: 3.2801\n",
      "Epoch 67/200\n",
      "2350/2350 [==============================] - 0s 98us/step - loss: 199756607.9864 - mean_squared_logarithmic_error: 3.0516 - val_loss: 209224802.2313 - val_mean_squared_logarithmic_error: 3.2788\n",
      "Epoch 68/200\n",
      "2350/2350 [==============================] - 0s 91us/step - loss: 199672247.4996 - mean_squared_logarithmic_error: 3.0506 - val_loss: 209134705.3605 - val_mean_squared_logarithmic_error: 3.2775\n",
      "Epoch 69/200\n",
      "2350/2350 [==============================] - 0s 101us/step - loss: 199593187.6868 - mean_squared_logarithmic_error: 3.0498 - val_loss: 209048623.0748 - val_mean_squared_logarithmic_error: 3.2762\n",
      "Epoch 70/200\n",
      "2350/2350 [==============================] - 0s 96us/step - loss: 199513827.6357 - mean_squared_logarithmic_error: 3.0490 - val_loss: 208961760.9252 - val_mean_squared_logarithmic_error: 3.2751\n",
      "Epoch 71/200\n",
      "2350/2350 [==============================] - 0s 97us/step - loss: 199432437.4877 - mean_squared_logarithmic_error: 3.0482 - val_loss: 208872362.8299 - val_mean_squared_logarithmic_error: 3.2738\n",
      "Epoch 72/200\n",
      "2350/2350 [==============================] - 0s 100us/step - loss: 199353219.6153 - mean_squared_logarithmic_error: 3.0474 - val_loss: 208786258.0136 - val_mean_squared_logarithmic_error: 3.2727\n",
      "Epoch 73/200\n",
      "2350/2350 [==============================] - 0s 94us/step - loss: 199274310.9719 - mean_squared_logarithmic_error: 3.0467 - val_loss: 208698213.8776 - val_mean_squared_logarithmic_error: 3.2715\n",
      "Epoch 74/200\n",
      "2350/2350 [==============================] - 0s 100us/step - loss: 199193050.3115 - mean_squared_logarithmic_error: 3.0461 - val_loss: 208611451.3197 - val_mean_squared_logarithmic_error: 3.2705\n",
      "Epoch 75/200\n",
      "2350/2350 [==============================] - 0s 98us/step - loss: 199114630.7064 - mean_squared_logarithmic_error: 3.0454 - val_loss: 208525701.8776 - val_mean_squared_logarithmic_error: 3.2694\n",
      "Epoch 76/200\n",
      "2350/2350 [==============================] - 0s 96us/step - loss: 199033731.9626 - mean_squared_logarithmic_error: 3.0448 - val_loss: 208435737.1973 - val_mean_squared_logarithmic_error: 3.2683\n",
      "Epoch 77/200\n",
      "2350/2350 [==============================] - 0s 102us/step - loss: 198953163.8128 - mean_squared_logarithmic_error: 3.0442 - val_loss: 208347654.0952 - val_mean_squared_logarithmic_error: 3.2673\n",
      "Epoch 78/200\n"
     ]
    },
    {
     "name": "stdout",
     "output_type": "stream",
     "text": [
      "2350/2350 [==============================] - 0s 94us/step - loss: 198872589.1098 - mean_squared_logarithmic_error: 3.0437 - val_loss: 208261830.0952 - val_mean_squared_logarithmic_error: 3.2663\n",
      "Epoch 79/200\n",
      "2350/2350 [==============================] - 0s 91us/step - loss: 198791424.4868 - mean_squared_logarithmic_error: 3.0430 - val_loss: 208171007.2925 - val_mean_squared_logarithmic_error: 3.2653\n",
      "Epoch 80/200\n",
      "2350/2350 [==============================] - 0s 102us/step - loss: 198711524.2077 - mean_squared_logarithmic_error: 3.0425 - val_loss: 208081680.4898 - val_mean_squared_logarithmic_error: 3.2643\n",
      "Epoch 81/200\n",
      "2350/2350 [==============================] - 0s 94us/step - loss: 198628040.5430 - mean_squared_logarithmic_error: 3.0419 - val_loss: 207992653.9864 - val_mean_squared_logarithmic_error: 3.2634\n",
      "Epoch 82/200\n",
      "2350/2350 [==============================] - 0s 97us/step - loss: 198549123.8979 - mean_squared_logarithmic_error: 3.0415 - val_loss: 207906157.7143 - val_mean_squared_logarithmic_error: 3.2625\n",
      "Epoch 83/200\n",
      "2350/2350 [==============================] - 0s 98us/step - loss: 198469139.3600 - mean_squared_logarithmic_error: 3.0410 - val_loss: 207816641.3605 - val_mean_squared_logarithmic_error: 3.2616\n",
      "Epoch 84/200\n",
      "2350/2350 [==============================] - 0s 99us/step - loss: 198386649.9813 - mean_squared_logarithmic_error: 3.0406 - val_loss: 207726275.3741 - val_mean_squared_logarithmic_error: 3.2607\n",
      "Epoch 85/200\n",
      "2350/2350 [==============================] - 0s 100us/step - loss: 198307859.0502 - mean_squared_logarithmic_error: 3.0401 - val_loss: 207641854.3129 - val_mean_squared_logarithmic_error: 3.2599\n",
      "Epoch 86/200\n",
      "2350/2350 [==============================] - 0s 142us/step - loss: 198225100.2102 - mean_squared_logarithmic_error: 3.0397 - val_loss: 207550423.3469 - val_mean_squared_logarithmic_error: 3.2591\n",
      "Epoch 87/200\n",
      "2350/2350 [==============================] - 0s 165us/step - loss: 198145215.1013 - mean_squared_logarithmic_error: 3.0393 - val_loss: 207463094.1497 - val_mean_squared_logarithmic_error: 3.2583\n",
      "Epoch 88/200\n",
      "2350/2350 [==============================] - 0s 168us/step - loss: 198063673.7923 - mean_squared_logarithmic_error: 3.0390 - val_loss: 207373077.6054 - val_mean_squared_logarithmic_error: 3.2575\n",
      "Epoch 89/200\n",
      "2350/2350 [==============================] - 0s 162us/step - loss: 197982447.9728 - mean_squared_logarithmic_error: 3.0388 - val_loss: 207284950.7483 - val_mean_squared_logarithmic_error: 3.2568\n",
      "Epoch 90/200\n",
      "2350/2350 [==============================] - 0s 167us/step - loss: 197903012.0774 - mean_squared_logarithmic_error: 3.0385 - val_loss: 207197534.3673 - val_mean_squared_logarithmic_error: 3.2561\n",
      "Epoch 91/200\n",
      "2350/2350 [==============================] - 0s 165us/step - loss: 197823469.9013 - mean_squared_logarithmic_error: 3.0381 - val_loss: 207111141.1156 - val_mean_squared_logarithmic_error: 3.2554\n",
      "Epoch 92/200\n",
      "2350/2350 [==============================] - 0s 161us/step - loss: 197743149.3991 - mean_squared_logarithmic_error: 3.0378 - val_loss: 207020846.6395 - val_mean_squared_logarithmic_error: 3.2547\n",
      "Epoch 93/200\n",
      "2350/2350 [==============================] - 0s 162us/step - loss: 197661799.0604 - mean_squared_logarithmic_error: 3.0377 - val_loss: 206932251.2109 - val_mean_squared_logarithmic_error: 3.2541\n",
      "Epoch 94/200\n",
      "2350/2350 [==============================] - 0s 163us/step - loss: 197579634.9804 - mean_squared_logarithmic_error: 3.0373 - val_loss: 206841977.6871 - val_mean_squared_logarithmic_error: 3.2534\n",
      "Epoch 95/200\n",
      "2350/2350 [==============================] - 0s 165us/step - loss: 197499246.9004 - mean_squared_logarithmic_error: 3.0372 - val_loss: 206754314.4490 - val_mean_squared_logarithmic_error: 3.2528\n",
      "Epoch 96/200\n",
      "2350/2350 [==============================] - 0s 165us/step - loss: 197418155.0468 - mean_squared_logarithmic_error: 3.0371 - val_loss: 206664633.7959 - val_mean_squared_logarithmic_error: 3.2523\n",
      "Epoch 97/200\n",
      "2350/2350 [==============================] - 0s 161us/step - loss: 197335495.5711 - mean_squared_logarithmic_error: 3.0368 - val_loss: 206573724.2449 - val_mean_squared_logarithmic_error: 3.2517\n",
      "Epoch 98/200\n",
      "2350/2350 [==============================] - 0s 161us/step - loss: 197251581.7736 - mean_squared_logarithmic_error: 3.0367 - val_loss: 206481565.9864 - val_mean_squared_logarithmic_error: 3.2511\n",
      "Epoch 99/200\n",
      "2350/2350 [==============================] - 0s 164us/step - loss: 197172713.8587 - mean_squared_logarithmic_error: 3.0366 - val_loss: 206395980.7891 - val_mean_squared_logarithmic_error: 3.2507\n",
      "Epoch 100/200\n",
      "2350/2350 [==============================] - 0s 168us/step - loss: 197092601.8996 - mean_squared_logarithmic_error: 3.0365 - val_loss: 206308122.3946 - val_mean_squared_logarithmic_error: 3.2502\n",
      "Epoch 101/200\n",
      "2350/2350 [==============================] - 0s 121us/step - loss: 197011774.5089 - mean_squared_logarithmic_error: 3.0365 - val_loss: 206220501.8776 - val_mean_squared_logarithmic_error: 3.2497\n",
      "Epoch 102/200\n",
      "2350/2350 [==============================] - 0s 107us/step - loss: 196929928.9260 - mean_squared_logarithmic_error: 3.0365 - val_loss: 206127773.8776 - val_mean_squared_logarithmic_error: 3.2493\n",
      "Epoch 103/200\n",
      "2350/2350 [==============================] - 0s 101us/step - loss: 196852866.8162 - mean_squared_logarithmic_error: 3.0366 - val_loss: 206045979.7007 - val_mean_squared_logarithmic_error: 3.2489\n",
      "Epoch 104/200\n",
      "2350/2350 [==============================] - 0s 98us/step - loss: 196770826.8468 - mean_squared_logarithmic_error: 3.0365 - val_loss: 205956928.4898 - val_mean_squared_logarithmic_error: 3.2485\n",
      "Epoch 105/200\n",
      "2350/2350 [==============================] - 0s 95us/step - loss: 196690804.3677 - mean_squared_logarithmic_error: 3.0366 - val_loss: 205866403.3741 - val_mean_squared_logarithmic_error: 3.2481\n",
      "Epoch 106/200\n",
      "2350/2350 [==============================] - 0s 106us/step - loss: 196608940.4311 - mean_squared_logarithmic_error: 3.0366 - val_loss: 205778016.1088 - val_mean_squared_logarithmic_error: 3.2478\n",
      "Epoch 107/200\n",
      "2350/2350 [==============================] - 0s 100us/step - loss: 196527168.9123 - mean_squared_logarithmic_error: 3.0366 - val_loss: 205686215.8367 - val_mean_squared_logarithmic_error: 3.2474\n",
      "Epoch 108/200\n",
      "2350/2350 [==============================] - 0s 95us/step - loss: 196446250.4715 - mean_squared_logarithmic_error: 3.0367 - val_loss: 205598592.5986 - val_mean_squared_logarithmic_error: 3.2471\n",
      "Epoch 109/200\n",
      "2350/2350 [==============================] - 0s 100us/step - loss: 196365544.0340 - mean_squared_logarithmic_error: 3.0369 - val_loss: 205509328.4898 - val_mean_squared_logarithmic_error: 3.2469\n",
      "Epoch 110/200\n",
      "2350/2350 [==============================] - 0s 97us/step - loss: 196285557.7940 - mean_squared_logarithmic_error: 3.0370 - val_loss: 205422946.5578 - val_mean_squared_logarithmic_error: 3.2466\n",
      "Epoch 111/200\n",
      "2350/2350 [==============================] - 0s 104us/step - loss: 196204968.2247 - mean_squared_logarithmic_error: 3.0372 - val_loss: 205331378.7755 - val_mean_squared_logarithmic_error: 3.2463\n",
      "Epoch 112/200\n",
      "2350/2350 [==============================] - 0s 96us/step - loss: 196123085.1055 - mean_squared_logarithmic_error: 3.0373 - val_loss: 205244313.9592 - val_mean_squared_logarithmic_error: 3.2461\n",
      "Epoch 113/200\n",
      "2350/2350 [==============================] - 0s 97us/step - loss: 196041778.4919 - mean_squared_logarithmic_error: 3.0375 - val_loss: 205152195.2653 - val_mean_squared_logarithmic_error: 3.2459\n",
      "Epoch 114/200\n",
      "2350/2350 [==============================] - 0s 99us/step - loss: 195960155.1719 - mean_squared_logarithmic_error: 3.0376 - val_loss: 205066360.9796 - val_mean_squared_logarithmic_error: 3.2458\n",
      "Epoch 115/200\n",
      "2350/2350 [==============================] - 0s 99us/step - loss: 195880516.1668 - mean_squared_logarithmic_error: 3.0379 - val_loss: 204973870.9660 - val_mean_squared_logarithmic_error: 3.2456\n",
      "Epoch 116/200\n",
      "2350/2350 [==============================] - 0s 97us/step - loss: 195797838.3196 - mean_squared_logarithmic_error: 3.0381 - val_loss: 204886304.7075 - val_mean_squared_logarithmic_error: 3.2454\n",
      "Epoch 117/200\n"
     ]
    },
    {
     "name": "stdout",
     "output_type": "stream",
     "text": [
      "2350/2350 [==============================] - 0s 95us/step - loss: 195718176.3779 - mean_squared_logarithmic_error: 3.0385 - val_loss: 204797571.4286 - val_mean_squared_logarithmic_error: 3.2453\n",
      "Epoch 118/200\n",
      "2350/2350 [==============================] - 0s 105us/step - loss: 195636422.1957 - mean_squared_logarithmic_error: 3.0388 - val_loss: 204706782.3673 - val_mean_squared_logarithmic_error: 3.2452\n",
      "Epoch 119/200\n",
      "2350/2350 [==============================] - 0s 95us/step - loss: 195551297.9404 - mean_squared_logarithmic_error: 3.0390 - val_loss: 204615440.1633 - val_mean_squared_logarithmic_error: 3.2451\n",
      "Epoch 120/200\n",
      "2350/2350 [==============================] - 0s 89us/step - loss: 195472134.6996 - mean_squared_logarithmic_error: 3.0394 - val_loss: 204528483.9728 - val_mean_squared_logarithmic_error: 3.2451\n",
      "Epoch 121/200\n",
      "2350/2350 [==============================] - 0s 101us/step - loss: 195393579.5472 - mean_squared_logarithmic_error: 3.0398 - val_loss: 204439698.1224 - val_mean_squared_logarithmic_error: 3.2450\n",
      "Epoch 122/200\n",
      "2350/2350 [==============================] - 0s 92us/step - loss: 195313486.8970 - mean_squared_logarithmic_error: 3.0401 - val_loss: 204350121.7415 - val_mean_squared_logarithmic_error: 3.2450\n",
      "Epoch 123/200\n",
      "2350/2350 [==============================] - 0s 89us/step - loss: 195230557.3583 - mean_squared_logarithmic_error: 3.0405 - val_loss: 204261471.8367 - val_mean_squared_logarithmic_error: 3.2450\n",
      "Epoch 124/200\n",
      "2350/2350 [==============================] - 0s 102us/step - loss: 195150527.8774 - mean_squared_logarithmic_error: 3.0409 - val_loss: 204172029.9320 - val_mean_squared_logarithmic_error: 3.2450\n",
      "Epoch 125/200\n",
      "2350/2350 [==============================] - 0s 97us/step - loss: 195068668.6230 - mean_squared_logarithmic_error: 3.0414 - val_loss: 204082441.5238 - val_mean_squared_logarithmic_error: 3.2451\n",
      "Epoch 126/200\n",
      "2350/2350 [==============================] - 0s 98us/step - loss: 194987534.8698 - mean_squared_logarithmic_error: 3.0418 - val_loss: 203994963.5374 - val_mean_squared_logarithmic_error: 3.2451\n"
     ]
    }
   ],
   "source": [
    "r=model.fit(train_x,train_gdp,validation_data=(test_x,test_gdp),epochs=200,callbacks=[scheduler,early_stop])"
   ]
  },
  {
   "cell_type": "code",
   "execution_count": 21,
   "metadata": {},
   "outputs": [
    {
     "data": {
      "text/plain": [
       "[<matplotlib.lines.Line2D at 0x22417af8908>]"
      ]
     },
     "execution_count": 21,
     "metadata": {},
     "output_type": "execute_result"
    },
    {
     "data": {
      "image/png": "[encoded data removed]",
      "text/plain": [
       "<Figure size 432x288 with 1 Axes>"
      ]
     },
     "metadata": {
      "needs_background": "light"
     },
     "output_type": "display_data"
    }
   ],
   "source": [
    "plt.plot(r.history['loss'])\n",
    "plt.plot(r.history['val_loss'])"
   ]
  },
  {
   "cell_type": "code",
   "execution_count": 22,
   "metadata": {},
   "outputs": [
    {
     "data": {
      "text/plain": [
       "[<matplotlib.lines.Line2D at 0x22417bd2b08>]"
      ]
     },
     "execution_count": 22,
     "metadata": {},
     "output_type": "execute_result"
    },
    {
     "data": {
      "image/png": "[encoded data removed]",
      "text/plain": [
       "<Figure size 432x288 with 1 Axes>"
      ]
     },
     "metadata": {
      "needs_background": "light"
     },
     "output_type": "display_data"
    }
   ],
   "source": [
    "plt.plot(r.history['mean_squared_logarithmic_error'])\n",
    "plt.plot(r.history['val_mean_squared_logarithmic_error'])"
   ]
  },
  {
   "cell_type": "markdown",
   "metadata": {},
   "source": [
    "## DecisionTreeRegressor"
   ]
  },
  {
   "cell_type": "code",
   "execution_count": 23,
   "metadata": {},
   "outputs": [
    {
     "data": {
      "text/plain": [
       "DecisionTreeRegressor(max_depth=10)"
      ]
     },
     "execution_count": 23,
     "metadata": {},
     "output_type": "execute_result"
    }
   ],
   "source": [
    "model2=DecisionTreeRegressor(max_depth=10)\n",
    "model2.fit(train_x,train_gdp)"
   ]
  },
  {
   "cell_type": "code",
   "execution_count": 24,
   "metadata": {},
   "outputs": [],
   "source": [
    "ree=[]"
   ]
  },
  {
   "cell_type": "code",
   "execution_count": 25,
   "metadata": {},
   "outputs": [
    {
     "name": "stdout",
     "output_type": "stream",
     "text": [
      "0.2367953266893533\n",
      "0.4544396086620212\n"
     ]
    }
   ],
   "source": [
    "print(mean_squared_log_error(train_gdp,model2.predict(train_x)))\n",
    "print(mean_squared_log_error(test_gdp,model2.predict(test_x)))"
   ]
  },
  {
   "cell_type": "code",
   "execution_count": 26,
   "metadata": {},
   "outputs": [
    {
     "name": "stdout",
     "output_type": "stream",
     "text": [
      "1221197.047031186\n",
      "18308820.167964753\n"
     ]
    }
   ],
   "source": [
    "print(mean_squared_error(train_gdp,model2.predict(train_x)))\n",
    "print(mean_squared_error(test_gdp,model2.predict(test_x)))"
   ]
  },
  {
   "cell_type": "markdown",
   "metadata": {},
   "source": [
    "## RandomForestRegressor"
   ]
  },
  {
   "cell_type": "code",
   "execution_count": 28,
   "metadata": {},
   "outputs": [
    {
     "data": {
      "text/plain": [
       "RandomForestRegressor(max_depth=9)"
      ]
     },
     "execution_count": 28,
     "metadata": {},
     "output_type": "execute_result"
    }
   ],
   "source": [
    "model3=RandomForestRegressor(max_depth=9)\n",
    "model3.fit(train_x,train_gdp)"
   ]
  },
  {
   "cell_type": "code",
   "execution_count": 29,
   "metadata": {},
   "outputs": [
    {
     "name": "stdout",
     "output_type": "stream",
     "text": [
      "0.3448595658751586\n",
      "0.439057778411219\n"
     ]
    }
   ],
   "source": [
    "print(mean_squared_log_error(train_gdp,model3.predict(train_x)))\n",
    "print(mean_squared_log_error(test_gdp,model3.predict(test_x)))"
   ]
  },
  {
   "cell_type": "markdown",
   "metadata": {},
   "source": [
    "## KNN"
   ]
  },
  {
   "cell_type": "code",
   "execution_count": 33,
   "metadata": {},
   "outputs": [
    {
     "data": {
      "text/plain": [
       "KNeighborsRegressor()"
      ]
     },
     "execution_count": 33,
     "metadata": {},
     "output_type": "execute_result"
    }
   ],
   "source": [
    "model4=KNeighborsRegressor()\n",
    "model4.fit(train_x,train_gdp)"
   ]
  },
  {
   "cell_type": "code",
   "execution_count": 34,
   "metadata": {},
   "outputs": [
    {
     "name": "stdout",
     "output_type": "stream",
     "text": [
      "1.4000746225360248\n",
      "2.090165773195367\n"
     ]
    }
   ],
   "source": [
    "print(mean_squared_log_error(train_gdp,model4.predict(train_x)))\n",
    "print(mean_squared_log_error(test_gdp,model4.predict(test_x)))"
   ]
  }
 ],
 "metadata": {
  "kernelspec": {
   "display_name": "Python 3",
   "language": "python",
   "name": "python3"
  },
  "language_info": {
   "codemirror_mode": {
    "name": "ipython",
    "version": 3
   },
   "file_extension": ".py",
   "mimetype": "text/x-python",
   "name": "python",
   "nbconvert_exporter": "python",
   "pygments_lexer": "ipython3",
   "version": "3.7.6"
  }
 },
 "nbformat": 4,
 "nbformat_minor": 4
}
